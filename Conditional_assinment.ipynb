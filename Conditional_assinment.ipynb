{
 "cells": [
  {
   "cell_type": "markdown",
   "metadata": {},
   "source": [
    "## Assignments of using only if statement:-\n"
   ]
  },
  {
   "cell_type": "markdown",
   "metadata": {},
   "source": [
    "#### 1. Enter any 3 nos. at run time & find out largest no.?using only if statement? without using any logical operator?"
   ]
  },
  {
   "cell_type": "code",
   "execution_count": null,
   "metadata": {},
   "outputs": [],
   "source": [
    "a=int(input(\"Enter value of a :\"))\n",
    "b=int(input(\"Enter value of a :\"))\n",
    "c=int(input(\"Enter value of a :\"))\n",
    "if (a>b and a>c):\n",
    "    print('a greater than b ,c')\n",
    "\n",
    "if(b>a and b>a):\n",
    "    print('b is greater than a,c')\n",
    "\n",
    "if(c>a and c>b):\n",
    "    print('c is greater than a,b')\n",
    "\n",
    "if(a==b and b==c and c==a):\n",
    "    print('all are equial')    \n"
   ]
  },
  {
   "cell_type": "markdown",
   "metadata": {},
   "source": [
    "#### 2. Enter any 3 sides of triangle at run time & find out this triangle is Scalene or Isoselese or Equilateral ? using onlyif statement?\n"
   ]
  },
  {
   "cell_type": "code",
   "execution_count": null,
   "metadata": {},
   "outputs": [],
   "source": [
    "a=int(input(\"Enter side of trangle a :\"))\n",
    "b=int(input(\"Enter side of trangle b :\"))\n",
    "c=int(input(\"Enter side of trangle c :\"))\n",
    "\n",
    "if (a==b==c):\n",
    "    print(\"It's a equilateral triangle\")\n",
    "\n",
    "if (a!=b!=c!=a):\n",
    "    print(\"It's a scalene triangle\")\n",
    "\n",
    "if (a==b!=c and a==c!=b and b==c!=a):\n",
    "    print(\"It's a Isoselense triangle\")    "
   ]
  },
  {
   "cell_type": "markdown",
   "metadata": {},
   "source": [
    "#### 3. Enter any character at run time & find out this character is capital letter or small letter or number or special symbols? using only if statement?\n",
    "\n"
   ]
  },
  {
   "cell_type": "code",
   "execution_count": null,
   "metadata": {},
   "outputs": [],
   "source": [
    "a= input('Enter any character')\n",
    "if(a )\n"
   ]
  },
  {
   "cell_type": "markdown",
   "metadata": {},
   "source": [
    "## Assignments using only if...else statement:-"
   ]
  },
  {
   "cell_type": "markdown",
   "metadata": {},
   "source": [
    "#### 4. Enter any no. at run time & find out this no. is Even no. or Odd no. ? using if....else statement?\n"
   ]
  },
  {
   "cell_type": "code",
   "execution_count": 2,
   "metadata": {},
   "outputs": [
    {
     "name": "stdout",
     "output_type": "stream",
     "text": [
      "even number\n"
     ]
    }
   ],
   "source": [
    "a=int(input(\"Enter value of a :\"))\n",
    "\n",
    "if (a%2==0):\n",
    "    print('even number')\n",
    "\n",
    "else:\n",
    "    print('odd number')"
   ]
  },
  {
   "cell_type": "markdown",
   "metadata": {},
   "source": [
    "#### 5. Enter any year at run time & find out this year is Leap Year or not Leap Year ? using if....else statement?\n"
   ]
  },
  {
   "cell_type": "code",
   "execution_count": 4,
   "metadata": {},
   "outputs": [
    {
     "name": "stdout",
     "output_type": "stream",
     "text": [
      "Not leap year\n"
     ]
    }
   ],
   "source": [
    "year=int(input(\"Enter year :\"))\n",
    "\n",
    "if (year%4==0):\n",
    "    print('leap year')\n",
    "\n",
    "else:\n",
    "    print('Not leap year')"
   ]
  },
  {
   "cell_type": "markdown",
   "metadata": {},
   "source": [
    "#### 6. Enter any alphabet at run time & create a reverse case program? using if....else statement? i.e. Capital letter to Small letter & vice versa.......\n"
   ]
  },
  {
   "cell_type": "code",
   "execution_count": null,
   "metadata": {},
   "outputs": [],
   "source": [
    "alphabet= input('Enter any alphabet')\n",
    "\n",
    "if (alphabet==upper())"
   ]
  },
  {
   "cell_type": "markdown",
   "metadata": {},
   "source": [
    "#### 7. Enter any basic salary at run time & find out da, hra, ta & net salary? using if....else statement?\n",
    "        if basic_salary>35000 then,\n",
    "        da=10% of basic salary,\n",
    "        hra=20% of basic salary,\n",
    "        ta=5% of basic salary ,\n",
    "        else:,\n",
    "        da=5% of basic salary,\n",
    "        hra=10% of basic salary,\n",
    "        ta=2% of basic salary\n",
    "#### then find out Net Salary?\n"
   ]
  },
  {
   "cell_type": "code",
   "execution_count": 16,
   "metadata": {},
   "outputs": [
    {
     "name": "stdout",
     "output_type": "stream",
     "text": [
      "1750.0 3500.0 700.0 29050.0\n"
     ]
    }
   ],
   "source": [
    "salary= int(input('Enter basic salary:-'))\n",
    "\n",
    "if (salary>35000):\n",
    "    da=0.1*salary\n",
    "    hra=0.2*salary\n",
    "    ta=0.05*salary\n",
    "    bs=salary-(da+hra+ta)\n",
    "    print(da,hra,ta,bs)\n",
    "else:\n",
    "    da=0.05*salary\n",
    "    hra=0.1*salary\n",
    "    ta=0.02*salary\n",
    "    bs=salary-(da+hra+ta)\n",
    "    print(da,hra,ta,bs)"
   ]
  },
  {
   "cell_type": "markdown",
   "metadata": {},
   "source": [
    "#### 8. Enter any temp. at run time & if temp. is Celcius then convert into Fahrenheit & vice versa...? using if...else statement?"
   ]
  },
  {
   "cell_type": "code",
   "execution_count": 14,
   "metadata": {},
   "outputs": [
    {
     "name": "stdout",
     "output_type": "stream",
     "text": [
      "93.33333333333333\n"
     ]
    }
   ],
   "source": [
    "askunit= input('Enter tempreture F OR C')\n",
    "temp= int(input('Enter tempreture'))\n",
    "if (askunit==\"f\"):\n",
    "    print((temp-32)*5/9)\n",
    "else:\n",
    "    print((9/5)*temp+32)\n",
    "\n"
   ]
  },
  {
   "cell_type": "code",
   "execution_count": null,
   "metadata": {},
   "outputs": [],
   "source": []
  }
 ],
 "metadata": {
  "kernelspec": {
   "display_name": "Python 3",
   "language": "python",
   "name": "python3"
  },
  "language_info": {
   "codemirror_mode": {
    "name": "ipython",
    "version": 3
   },
   "file_extension": ".py",
   "mimetype": "text/x-python",
   "name": "python",
   "nbconvert_exporter": "python",
   "pygments_lexer": "ipython3",
   "version": "3.11.4"
  }
 },
 "nbformat": 4,
 "nbformat_minor": 2
}
